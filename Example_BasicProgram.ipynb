{
  "nbformat": 4,
  "nbformat_minor": 0,
  "metadata": {
    "colab": {
      "provenance": [],
      "mount_file_id": "1NYNYFGP_AGvcNHZy5nVUNyCTh3jNzt7D",
      "authorship_tag": "ABX9TyOW1ezDit2r7M8lT9ApDfav",
      "include_colab_link": true
    },
    "kernelspec": {
      "name": "python3",
      "display_name": "Python 3"
    },
    "language_info": {
      "name": "python"
    }
  },
  "cells": [
    {
      "cell_type": "markdown",
      "metadata": {
        "id": "view-in-github",
        "colab_type": "text"
      },
      "source": [
        "<a href=\"https://colab.research.google.com/github/Bhavin-Bhesaniya/Covid19Tracker_AndroidApp/blob/master/Example_BasicProgram.ipynb\" target=\"_parent\"><img src=\"https://colab.research.google.com/assets/colab-badge.svg\" alt=\"Open In Colab\"/></a>"
      ]
    },
    {
      "cell_type": "code",
      "source": [
        "# Single Line comment    \n",
        "\"\"\" Multi-line Comment \"\"\"\n",
        "\n",
        "# Variable :-\n",
        "a = 100\n",
        "print(a)\n",
        "print(type(a))  # Type function define which type variable\n",
        "print(len(str(a)))   # How many characters are there\n",
        "\n",
        "\n",
        "# Multiple Variable\n",
        "a = b = c = 10          # Same value\n",
        "print(a, b, c)\n",
        "a = b = c = 10, 20, 30  # Declare multi-variable with different value\n",
        "print(a)\n",
        "\n",
        "\n",
        "# Unpacking -\n",
        "a = [50, 20, 40]  # Declare list\n",
        "x = y = z = a     # Use list value for multi-variable\n",
        "print(x)          # Unpack collection of types\n",
        "\n",
        "\n",
        "# Local And Global Variable -\n",
        "A = \"Global\"                  # Global variable declaration outside the function\n",
        "def fun():\n",
        "    global A                  # Access Local variable outside function use global keyword\n",
        "    A = \"Local variable\"      # Local variable declaration inside function\n",
        "    print(\"Variable : \" + A)\n",
        "fun()\n",
        "print(\"Variable : \" + A)\n",
        "\n",
        "\n",
        "# Take user values in variables -\n",
        "Input_Values = input(\"ENTER NO :- \")  # Get user value from input function\n",
        "print(type(Input_Values))             # All value from input function is string\n",
        "print(int(Input_Values))              # Type cast value\n",
        "\n",
        "# Escape Character -\n",
        "\"\"\"\n",
        "  \\n - newline\n",
        "  \\t - tab\n",
        "  \\' - Semi-Colon\n",
        "  \\\" - Double-Colon\n",
        "  \\r - Carriage Return\n",
        "  \\b - BackSpace\n",
        "  \\f - form feed\n",
        "  ooo - Octal\n",
        "  xhh - Hex value\n",
        "\"\"\"\n",
        "\n",
        "# Array Module -Array is not in python we use array module\n",
        "import array as ar\n",
        "a  = ar.array('i',[1,2,3,4,5])\n",
        "print(a)"
      ],
      "metadata": {
        "colab": {
          "base_uri": "https://localhost:8080/"
        },
        "id": "j2QD52k6jY0h",
        "outputId": "d34f24b0-b2ff-419b-d9b1-9f5b807a6abf"
      },
      "execution_count": null,
      "outputs": [
        {
          "output_type": "stream",
          "name": "stdout",
          "text": [
            "100\n",
            "<class 'int'>\n",
            "3\n",
            "10 10 10\n",
            "(10, 20, 30)\n",
            "[50, 20, 40]\n",
            "Variable : Local variable\n",
            "Variable : Local variable\n",
            "ENTER NO :- 1\n",
            "<class 'str'>\n",
            "1\n",
            "array('i', [1, 2, 3, 4, 5])\n"
          ]
        }
      ]
    },
    {
      "cell_type": "code",
      "source": [
        "# Condition statement used to check conditions satisfied or not\n",
        "a = 1000\n",
        "b = 100\n",
        "\n",
        "# Simple if\n",
        "if a > b:\n",
        "    print(\"Yes a is bigger than b\")\n",
        "\n",
        "# if..else\n",
        "if a < b:\n",
        "    print(\"No b is bigger than a\")\n",
        "else:\n",
        "    print(\"no a is bigger than b\")\n",
        "\n",
        "# if..elif..else\n",
        "if a == b:\n",
        "    print(\"Both equals\")\n",
        "elif a < b:\n",
        "    print(\"No b is bigger than\")\n",
        "else:\n",
        "    print(\"no a is bigger than b\")\n",
        "\n",
        "# Nested if..else\n",
        "if a != b:\n",
        "    if a < b:\n",
        "        print(\"no b is bigger than a\")\n",
        "    else:\n",
        "        print(\"no a is bigger than b\")\n",
        "else:\n",
        "    print(\"both equals\")\n",
        "\n",
        "# Short if..else\n",
        "print(\"A\") if a > b else print(\"B\")\n",
        "\n",
        "\n",
        "# Loops -\n",
        "\n",
        "# While -\n",
        "i = 1\n",
        "while i < 10:\n",
        "    i = i + 1\n",
        "    if i == 8:\n",
        "        break\n",
        "    if i == 5:\n",
        "        continue\n",
        "    print(i)\n",
        "else:\n",
        "    print(\"If condition not satisfied come here or after loop completes\")\n",
        "\n",
        "# For Loop -\n",
        "for x in range(0, 10):  # Any iterable\n",
        "    print(x)\n",
        "print(\"Finished\")\n",
        "\n",
        "for q in range(10, 14, 2):\n",
        "    for e in range(20, 25):\n",
        "        print(q, e)"
      ],
      "metadata": {
        "colab": {
          "base_uri": "https://localhost:8080/"
        },
        "id": "987E6Oyvjwwc",
        "outputId": "ec2fe9e7-d3e6-4587-8e9c-8ceabd6b9fce"
      },
      "execution_count": null,
      "outputs": [
        {
          "output_type": "stream",
          "name": "stdout",
          "text": [
            "Yes a is bigger than b\n",
            "no a is bigger than b\n",
            "no a is bigger than b\n",
            "no a is bigger than b\n",
            "A\n",
            "2\n",
            "3\n",
            "4\n",
            "6\n",
            "7\n",
            "0\n",
            "1\n",
            "2\n",
            "3\n",
            "4\n",
            "5\n",
            "6\n",
            "7\n",
            "8\n",
            "9\n",
            "Finished\n",
            "10 20\n",
            "10 21\n",
            "10 22\n",
            "10 23\n",
            "10 24\n",
            "12 20\n",
            "12 21\n",
            "12 22\n",
            "12 23\n",
            "12 24\n"
          ]
        }
      ]
    },
    {
      "cell_type": "code",
      "source": [
        "# Function - Block of code that run when it is called\n",
        "# Create Function :-\n",
        "def run():\n",
        "    print(\"Yes it is run\")\n",
        "run()  # Calling function\n",
        "\n",
        "\n",
        "# Passing Argument to Function :-\n",
        "print(\"\\nPassing Argument Function : \")\n",
        "def Sname(fname):                         # fname is parameter name\n",
        "    print(\"My name is \" + fname)\n",
        "\n",
        "\n",
        "Sname(\"Bhavin\")  # Argument passing to function\n",
        "a = \"Bhavin A\"\n",
        "Sname(a)  # Passing Variable as argument\n",
        "\n",
        "\n",
        "# Default Argument -\n",
        "print(\"\\nDefault Argument Function : \")\n",
        "def country(name=\"India\"):\n",
        "    print(\"My country name is \" + name)\n",
        "country(\"USA\")\n",
        "country()\n",
        "\n",
        "\n",
        "# *ARGS :- Passing no of argument\n",
        "print(\"\\nPassing No of Argument *args : \")\n",
        "def Cname(*fullname):\n",
        "    print(fullname[1] + \" \" + fullname[0])\n",
        "    print(fullname[0] + \" \" + fullname[1])\n",
        "    print(fullname[0] + \" \" + fullname[0])\n",
        "Cname(\"Bhavin\", \"Bhesaniya\")\n",
        "\n",
        "\n",
        "# Keyword argument :-\n",
        "print(\"\\nKeyword Argument : \")\n",
        "def Cname(fname, lname):\n",
        "    print(fname + \" \" + lname)\n",
        "Cname(fname=\"Bhavin\", lname=\"Bhesaniya\")\n",
        "\n",
        "\n",
        "# **kwargs :- Passing no of keyword argument\n",
        "print(\"\\nPassing No Of Keyword Argument : **kwargs \")\n",
        "def Cname(**fullname):\n",
        "    print(fullname[\"fname\"] + \" \" + fullname[\"lname\"])\n",
        "Cname(fname=\"Bhavin\", lname=\"Bhesaniya\")\n",
        "\n",
        "\n",
        "# Return Value From Function :-\n",
        "print(\"\\nReturn Value from the function :\")\n",
        "def sum_func(a, b):\n",
        "    return print(a + b)\n",
        "sum_func(10, 20)\n",
        "\n",
        "\n",
        "# RECURSION :- Function call itself known as recursion\n",
        "\n",
        "\n",
        "\n",
        "# LAMDA :- Function without name or anonymous function | Syntax - lambda arguments : expression\n",
        "print(\"\\nLamda Function :\")\n",
        "def x(p, n): return p * n\n",
        "print(x(5, 5))\n",
        "\n",
        "\n",
        "\n",
        "# 1)Pass obj in var :-\n",
        "print(\"\\nPass Object in Function Through Variable\")\n",
        "\n",
        "def fun(txt):\n",
        "    return txt.upper()\n",
        "\n",
        "print(fun(\"hello\"))\n",
        "x = fun\n",
        "print(x(\"pass object\"))\n",
        "\n",
        "\n",
        "\n",
        "# 2)Pass function as argument :-\n",
        "print(\"\\nPassing function as argument\")\n",
        "def first_fun(txt):\n",
        "    return txt.upper()\n",
        "\n",
        "def second_fun(txt):\n",
        "    return txt.lower()\n",
        "\n",
        "def third_fun(txt):\n",
        "    gretty = txt(\"passing Functions As Argument\")\n",
        "    print(gretty)\n",
        "\n",
        "third_fun(first_fun)\n",
        "third_fun(second_fun)\n",
        "\n",
        "\n",
        "# 3)Function return another function :-\n",
        "print(\"\\nFunction return another function\")\n",
        "def create_adder(x):\n",
        "    def adder(y):\n",
        "        return x + y\n",
        "    return adder\n",
        "add_15 = create_adder(15)\n",
        "print(add_15(10))\n",
        "\n",
        "\n",
        "# Yield Example :-\n",
        "print(\"\\nYield Example :\")\n",
        "def Sqaure_func():\n",
        "    i = 1\n",
        "    while True:\n",
        "        yield i * i\n",
        "        i += 1\n",
        "for x in Sqaure_func():\n",
        "    if x > 50:\n",
        "        break\n",
        "    print(x)"
      ],
      "metadata": {
        "colab": {
          "base_uri": "https://localhost:8080/"
        },
        "id": "Zp1eOSC9j3Xj",
        "outputId": "f4148363-b64e-49cb-dbfe-b62eda02948b"
      },
      "execution_count": null,
      "outputs": [
        {
          "output_type": "stream",
          "name": "stdout",
          "text": [
            "Yes it is run\n",
            "\n",
            "Passing Argument Function : \n",
            "My name is Bhavin\n",
            "My name is Bhavin A\n",
            "\n",
            "Default Argument Function : \n",
            "My country name is USA\n",
            "My country name is India\n",
            "\n",
            "Passing No of Argument *args : \n",
            "Bhesaniya Bhavin\n",
            "Bhavin Bhesaniya\n",
            "Bhavin Bhavin\n",
            "\n",
            "Keyword Argument : \n",
            "Bhavin Bhesaniya\n",
            "\n",
            "Passing No Of Keyword Argument : **kwargs \n",
            "Bhavin Bhesaniya\n",
            "\n",
            "Return Value from the function :\n",
            "30\n",
            "\n",
            "Lamda Function :\n",
            "25\n",
            "\n",
            "Pass Object in Function Through Variable\n",
            "HELLO\n",
            "PASS OBJECT\n",
            "\n",
            "Passing function as argument\n",
            "PASSING FUNCTIONS AS ARGUMENT\n",
            "passing functions as argument\n",
            "\n",
            "Function return another function\n",
            "25\n",
            "\n",
            "Yield Example :\n",
            "1\n",
            "4\n",
            "9\n",
            "16\n",
            "25\n",
            "36\n",
            "49\n"
          ]
        }
      ]
    },
    {
      "cell_type": "code",
      "execution_count": null,
      "metadata": {
        "id": "ae6MxaKn25YW",
        "colab": {
          "base_uri": "https://localhost:8080/"
        },
        "outputId": "4b0c4e57-7ec1-4655-9328-b3e29ba94814"
      },
      "outputs": [
        {
          "output_type": "stream",
          "name": "stdout",
          "text": [
            "Sum of A and B :-  30\n",
            "Enter Value For A :- 10\n",
            "Enter Value For B :- 20\n",
            "30\n"
          ]
        }
      ],
      "source": [
        "# 1. Add Two Numbers\n",
        "a = 10\n",
        "b = 20\n",
        "c = a + b\n",
        "print(\"Sum of A and B :- \",c)  \n",
        "\n",
        "\n",
        "a1 = int(input(\"Enter Value For A :- \"))  \n",
        "b2 = int(input(\"Enter Value For B :- \"))\n",
        "print(a1 + b2)\n",
        "\n",
        "# ValueError - Type is int but pass other\n",
        "# TypeError  - Unsupported operand type for + :- 'int' and 'str'"
      ]
    },
    {
      "cell_type": "code",
      "source": [
        "# 2. Maximum of two numbers\n",
        "a = int(input(\"Enter Value For A :- \"))  \n",
        "b = int(input(\"Enter Value For B :- \"))\n",
        "if a > b:\n",
        "  print(a)\n",
        "else:\n",
        "  print(b)"
      ],
      "metadata": {
        "colab": {
          "base_uri": "https://localhost:8080/"
        },
        "id": "JNIpFXt9cDzE",
        "outputId": "d3cddda1-d37a-48c8-d0a5-3a46c922a8b2"
      },
      "execution_count": null,
      "outputs": [
        {
          "output_type": "stream",
          "name": "stdout",
          "text": [
            "Enter Value For A :- 10\n",
            "Enter Value For B :- 20\n",
            "20\n"
          ]
        }
      ]
    },
    {
      "cell_type": "code",
      "source": [
        "# 3. Largest among 3 numbers\n",
        "num1 = 50\n",
        "num2 = 20\n",
        "num3 = 55\n",
        "\n",
        "if num1 > num2 and num1 > num3 :\n",
        "    print(\"Largest\", num1)\n",
        "elif num2 > num3 and num2 > num3 :\n",
        "    print(\"Largest\", num2)\n",
        "else:\n",
        "    print(num3)"
      ],
      "metadata": {
        "colab": {
          "base_uri": "https://localhost:8080/"
        },
        "id": "lYmdd49V3a4f",
        "outputId": "99ed3fac-5f3a-42f6-a718-4e23e138936b"
      },
      "execution_count": null,
      "outputs": [
        {
          "output_type": "stream",
          "name": "stdout",
          "text": [
            "55\n"
          ]
        }
      ]
    },
    {
      "cell_type": "code",
      "source": [
        "# 4. Positive, Negative, Zero Number\n",
        "a = -10\n",
        "if a > 0:\n",
        "    print(\"Positive\", a)\n",
        "elif a < 0: \n",
        "    print(\"Negative\", a)\n",
        "else: \n",
        "    print(\"Zero\", a)"
      ],
      "metadata": {
        "colab": {
          "base_uri": "https://localhost:8080/"
        },
        "id": "rlGC7fb73jCZ",
        "outputId": "6a74fe5c-9430-474b-89d2-4048be607392"
      },
      "execution_count": null,
      "outputs": [
        {
          "output_type": "stream",
          "name": "stdout",
          "text": [
            "Negative -10\n"
          ]
        }
      ]
    },
    {
      "cell_type": "code",
      "source": [
        "# 5. Swap variable\n",
        "a = 10\n",
        "b = 20\n",
        "\n",
        "temp = a\n",
        "a = b\n",
        "b = temp\n",
        "print(\"First Swap :- \", a, b)\n",
        "\n",
        "a, b = b, a\n",
        "print(\"Second Swap :- \", a, b)"
      ],
      "metadata": {
        "colab": {
          "base_uri": "https://localhost:8080/"
        },
        "id": "fyo77OAj3vE6",
        "outputId": "8bf9748f-fb13-41b9-d2b0-13c17c9ad55b"
      },
      "execution_count": null,
      "outputs": [
        {
          "output_type": "stream",
          "name": "stdout",
          "text": [
            "First Swap :-  20 10\n",
            "Second Swap :-  10 20\n"
          ]
        }
      ]
    },
    {
      "cell_type": "code",
      "source": [
        "# 6. Odd or Even\n",
        "a = 10\n",
        "if a % 2 == 0:\n",
        "    print(\"Even\",a)\n",
        "else:\n",
        "    print(\"Odd\", a)"
      ],
      "metadata": {
        "colab": {
          "base_uri": "https://localhost:8080/"
        },
        "id": "Vrw1ZsbF35p2",
        "outputId": "f18f3be3-f3ca-42c4-ee14-b19b3bcc197c"
      },
      "execution_count": null,
      "outputs": [
        {
          "output_type": "stream",
          "name": "stdout",
          "text": [
            "Even 10\n"
          ]
        }
      ]
    },
    {
      "cell_type": "code",
      "source": [
        "# 7. Factorial Number\n",
        "num = int(input(\"Enter No :- \"))\n",
        "def fact(a):\n",
        "    if a == 0:\n",
        "        return 1\n",
        "    else:\n",
        "        return a * fact(a-1)\n",
        "result = fact(num)\n",
        "print(\"Factorial of 5 is :- \", result)"
      ],
      "metadata": {
        "colab": {
          "base_uri": "https://localhost:8080/"
        },
        "id": "8Qng131u4Wc1",
        "outputId": "e984516a-8bbf-418c-a06f-99a928a05fcf"
      },
      "execution_count": null,
      "outputs": [
        {
          "output_type": "stream",
          "name": "stdout",
          "text": [
            "Enter No :- 5\n",
            "Factorial of 5 is :-  120\n"
          ]
        }
      ]
    },
    {
      "cell_type": "code",
      "source": [
        "# 8. Prime or Not\n",
        "user_no = int(input(\"Enter No :- \"))\n",
        "\n",
        "for num in range(2, user_no+1):\n",
        "    for i in range(2,num):\n",
        "        if num % i == 0:\n",
        "            break\n",
        "    else:\n",
        "        print(\"Prime No\", num)"
      ],
      "metadata": {
        "colab": {
          "base_uri": "https://localhost:8080/"
        },
        "id": "uXIfna_b41TX",
        "outputId": "2fa72317-16ac-40aa-d026-557445d31916"
      },
      "execution_count": null,
      "outputs": [
        {
          "output_type": "stream",
          "name": "stdout",
          "text": [
            "Enter No :- 10\n",
            "Prime No 2\n",
            "Prime No 3\n",
            "Prime No 5\n",
            "Prime No 7\n"
          ]
        }
      ]
    },
    {
      "cell_type": "code",
      "source": [
        "# 9. Squar Root\n",
        "# Using Math module\n",
        "import math           \n",
        "print(math.sqrt(49))\n",
        "\n",
        "# Using Exponentiation\n",
        "a = 49\n",
        "square_root = a ** (1/2)  # (0.5)\n",
        "print(int(square_root))"
      ],
      "metadata": {
        "colab": {
          "base_uri": "https://localhost:8080/"
        },
        "id": "K3Y5fkY947SD",
        "outputId": "3035b014-b25d-4587-ae11-43832fd78e97"
      },
      "execution_count": null,
      "outputs": [
        {
          "output_type": "stream",
          "name": "stdout",
          "text": [
            "7.0\n",
            "7\n"
          ]
        }
      ]
    },
    {
      "cell_type": "code",
      "source": [
        "# 10. Random module\n",
        "import random\n",
        "random_list = []\n",
        "for i in range(0, 10):\n",
        "    n = random.randint(0, 100)\n",
        "    random_list.append(n)\n",
        "print(\"Random No. list generated :- \", random_list)"
      ],
      "metadata": {
        "colab": {
          "base_uri": "https://localhost:8080/"
        },
        "id": "ZM7tZ4X45mXP",
        "outputId": "d177879e-eb9e-429a-f3e8-73cfd4723f7d"
      },
      "execution_count": null,
      "outputs": [
        {
          "output_type": "stream",
          "name": "stdout",
          "text": [
            "Random No. list generated :-  [19, 75, 29, 44, 9, 61, 13, 76, 43, 14]\n"
          ]
        }
      ]
    },
    {
      "cell_type": "code",
      "source": [
        "# 11. Add and Muliply Two Matrics \n",
        "\n",
        "X = [\n",
        "      [12,7,3],\n",
        "      [4 ,5,6],\n",
        "      [7 ,8,9] ]\n",
        "\n",
        "Y = [\n",
        "      [5,8,1],\n",
        "      [6,7,3],\n",
        "      [4,5,9] ]\n",
        "\n",
        "result = [[X[i][j] + Y[i][j]  for j in range(len(X[0]))] for i in range(len(X)) ]  # For multiplication X[i][j] * Y[i][j]\n",
        "\n",
        "for r in result:\n",
        "   print(r)"
      ],
      "metadata": {
        "colab": {
          "base_uri": "https://localhost:8080/"
        },
        "id": "qPdGg3s65rbm",
        "outputId": "1112a3b7-5f6a-47a4-eb32-59a3acf5e402"
      },
      "execution_count": null,
      "outputs": [
        {
          "output_type": "stream",
          "name": "stdout",
          "text": [
            "[17, 15, 4]\n",
            "[10, 12, 9]\n",
            "[11, 13, 18]\n"
          ]
        }
      ]
    },
    {
      "cell_type": "code",
      "source": [
        "# 12. Sum of Array and larget among them\n",
        "usr_input = int(input(\"Enter No to add item in list :- \"))\n",
        "usr_list = []\n",
        "\n",
        "\n",
        "for i in range(0, usr_input):\n",
        "    ele = int(input(\"Enter Value :- \"))\n",
        "    usr_list.append(ele)        # Store value in array\n",
        "print(\"List :- \", usr_list)\n",
        "\n",
        "\n",
        "# Sum of array\n",
        "sum = 0\n",
        "for adding in range(0, len(usr_list)):\n",
        "    sum = sum + usr_list[adding]\n",
        "print(sum)\n",
        "\n",
        "# Largest of array\n",
        "def largest(arr, n):\n",
        "    ans = max(arr)\n",
        "    return ans\n",
        "print(\"Larget Element :- \", largest(usr_list, len(usr_list)))"
      ],
      "metadata": {
        "colab": {
          "base_uri": "https://localhost:8080/"
        },
        "id": "xS8AZP646fTY",
        "outputId": "e53b42af-ae6f-4848-92a3-e0ce42e58ad5"
      },
      "execution_count": null,
      "outputs": [
        {
          "output_type": "stream",
          "name": "stdout",
          "text": [
            "Enter No to add item in list :- 3\n",
            "Enter Value :- 100\n",
            "Enter Value :- 20\n",
            "Enter Value :- 25\n",
            "List :-  [100, 20, 25]\n",
            "145\n",
            "Larget Element :-  100\n"
          ]
        }
      ]
    },
    {
      "cell_type": "code",
      "source": [
        "# 13. Convert Kilometres to Miles\n",
        "km = 5\n",
        "miles = 0.621 * km\n",
        "print(miles)"
      ],
      "metadata": {
        "colab": {
          "base_uri": "https://localhost:8080/"
        },
        "id": "1AruvLNE7IfY",
        "outputId": "bebb40f4-6a40-485c-8338-0550b9de9cc6"
      },
      "execution_count": null,
      "outputs": [
        {
          "output_type": "stream",
          "name": "stdout",
          "text": [
            "3.105\n"
          ]
        }
      ]
    },
    {
      "cell_type": "code",
      "source": [
        "# 14. Calculate Area of triangle\n",
        "h = int(input(\"Enter triangle's height length :- \"))\n",
        "b = int(input(\"Enter triangle's breadth length :- \")) \n",
        "tri_area = 0.5 * b * h\n",
        "print(f\"The area of triangle is :- {tri_area} \")"
      ],
      "metadata": {
        "colab": {
          "base_uri": "https://localhost:8080/"
        },
        "id": "ROAIAx__7OfL",
        "outputId": "c3b4048a-6f4f-4af2-abdd-bbdcbaf3a045"
      },
      "execution_count": null,
      "outputs": [
        {
          "output_type": "stream",
          "name": "stdout",
          "text": [
            "Enter triangle's height length :- 10\n",
            "Enter triangle's breadth length :- 4\n",
            "The area of triangle is :- 20.0 \n"
          ]
        }
      ]
    },
    {
      "cell_type": "code",
      "source": [
        "# 15. Check String is Palindrome or Not \n",
        "user_string = input(\"Enter String :- \")\n",
        "\n",
        "for i in range(len(user_string)):                   # validation = user_string[::-1]\n",
        "    validation = ''.join(reversed(user_string))\n",
        "\n",
        "if user_string == validation:\n",
        "    print(\"Palindrome String :- \", user_string)\n",
        "else:\n",
        "    print(\"Not Palindrome String :- \", user_string)"
      ],
      "metadata": {
        "colab": {
          "base_uri": "https://localhost:8080/"
        },
        "id": "Uzyw1aar7h6-",
        "outputId": "d774bb11-eab2-4dc6-c932-5ed614c19372"
      },
      "execution_count": null,
      "outputs": [
        {
          "output_type": "stream",
          "name": "stdout",
          "text": [
            "Enter String :- rar\n",
            "Palindrome String :-  rar\n"
          ]
        }
      ]
    },
    {
      "cell_type": "code",
      "source": [
        "# 16. Check Leap year\n",
        "leap = 2008\n",
        "if (leap % 400 == 0) & (leap % 100 == 0) or (leap % 4 == 0) & (leap % 100 != 0):\n",
        "    print(\"Leap Year\")\n",
        "else:\n",
        "    print(\"Not Leap Year\")"
      ],
      "metadata": {
        "colab": {
          "base_uri": "https://localhost:8080/"
        },
        "id": "WOvLKK987tZI",
        "outputId": "fc2e9530-ef01-433f-94a9-77fffda06374"
      },
      "execution_count": null,
      "outputs": [
        {
          "output_type": "stream",
          "name": "stdout",
          "text": [
            "Leap Year\n"
          ]
        }
      ]
    },
    {
      "cell_type": "code",
      "source": [
        "# 17. Check substring\n",
        "ustring = \"Check Substring Program\"\n",
        "ustring_chk = ustring[0:5]\n",
        "if ustring_chk in ustring:\n",
        "    print(\"Prsent\")\n",
        "else:\n",
        "    print(\"Not Prsent\")"
      ],
      "metadata": {
        "colab": {
          "base_uri": "https://localhost:8080/"
        },
        "id": "qAiiRTFA8AAJ",
        "outputId": "803b582d-d588-4ce2-adc1-b0c0d81cf2b2"
      },
      "execution_count": null,
      "outputs": [
        {
          "output_type": "stream",
          "name": "stdout",
          "text": [
            "Prsent\n"
          ]
        }
      ]
    },
    {
      "cell_type": "code",
      "source": [
        "# 18. Reverse String \n",
        "tString = \"String Reversing\"\n",
        "print(tString[::-1])"
      ],
      "metadata": {
        "id": "YbmCUbY38K3S"
      },
      "execution_count": null,
      "outputs": []
    },
    {
      "cell_type": "code",
      "source": [
        "# 19. Check if string contain any special character\n",
        "import re\n",
        "test_string = \"String Checking\"\n",
        "regex = re.compile('[@_!#$%^&*()<>?/\\|}{~:]')\n",
        "if regex.search(test_string) == None:\n",
        "  print(\"String is accepted\")\n",
        "else:\n",
        "  print(\"String is not accepted.\")"
      ],
      "metadata": {
        "colab": {
          "base_uri": "https://localhost:8080/"
        },
        "id": "HO2VZ9yp8VWb",
        "outputId": "e82fc525-bbad-40f8-a826-d29508d2450b"
      },
      "execution_count": null,
      "outputs": [
        {
          "output_type": "stream",
          "name": "stdout",
          "text": [
            "String is accepted\n"
          ]
        }
      ]
    },
    {
      "cell_type": "code",
      "source": [
        "# 20. Fibonacci Sequence: Python\n",
        "a = 0\n",
        "b = 1\n",
        "\n",
        "num = int(input(\"Enter No :- \"))\n",
        "for i in range(2, num):\n",
        " c = a + b\n",
        " a = b \n",
        " b = c \n",
        " print(c)"
      ],
      "metadata": {
        "colab": {
          "base_uri": "https://localhost:8080/"
        },
        "id": "uoKa-VsG8a9A",
        "outputId": "4796f00a-a2ea-4779-9b54-9871d0044eb4"
      },
      "execution_count": null,
      "outputs": [
        {
          "output_type": "stream",
          "name": "stdout",
          "text": [
            "Enter No :- 11\n",
            "1\n",
            "2\n",
            "3\n",
            "5\n",
            "8\n",
            "13\n",
            "21\n",
            "34\n",
            "55\n"
          ]
        }
      ]
    },
    {
      "cell_type": "code",
      "source": [
        "# 21. Display Multiplication Table\n",
        "num = int(input(\"Enter table No :- \"))\n",
        "for i in range(1,10+1):\n",
        "    print(num,\"x\", i, \"=\", num *i)"
      ],
      "metadata": {
        "colab": {
          "base_uri": "https://localhost:8080/"
        },
        "id": "mW3EVPFI8qeF",
        "outputId": "ef2d4555-484a-46d7-b8e3-1bffe86f6aea"
      },
      "execution_count": null,
      "outputs": [
        {
          "output_type": "stream",
          "name": "stdout",
          "text": [
            "Enter table No :- 5\n",
            "5 x 1 = 5\n",
            "5 x 2 = 10\n",
            "5 x 3 = 15\n",
            "5 x 4 = 20\n",
            "5 x 5 = 25\n",
            "5 x 6 = 30\n",
            "5 x 7 = 35\n",
            "5 x 8 = 40\n",
            "5 x 9 = 45\n",
            "5 x 10 = 50\n"
          ]
        }
      ]
    },
    {
      "cell_type": "code",
      "source": [
        "# 22. Calcuis to Farenhit\n",
        "user_temp = int(input(\"Enter Celsius :- \"))\n",
        "Faren = user_temp * 1.8 + 32 #  (cel&=*(9/5)+32)\n",
        "print(\"Farenhit\", Faren)"
      ],
      "metadata": {
        "colab": {
          "base_uri": "https://localhost:8080/"
        },
        "id": "bIkVvg9486qd",
        "outputId": "a6df1c7e-dcc7-4314-e5b6-24a4b52e95be"
      },
      "execution_count": null,
      "outputs": [
        {
          "output_type": "stream",
          "name": "stdout",
          "text": [
            "Enter Celsius :- 4\n",
            "Farenhit 39.2\n"
          ]
        }
      ]
    },
    {
      "cell_type": "code",
      "source": [
        "# 23. Find ASCII Value of Character Program\n",
        "c = 'A'\n",
        "print(\"The ASCII value of '\" + c + \"' is\", ord(c))"
      ],
      "metadata": {
        "colab": {
          "base_uri": "https://localhost:8080/"
        },
        "id": "63lp4hjO9Mgx",
        "outputId": "85c89e39-e7fd-4c6c-e624-4bb88a521f94"
      },
      "execution_count": null,
      "outputs": [
        {
          "output_type": "stream",
          "name": "stdout",
          "text": [
            "The ASCII value of 'A' is 65\n"
          ]
        }
      ]
    },
    {
      "cell_type": "code",
      "source": [
        "# 24. Find Sum of Natural Numbers using the Python\n",
        "num = 16\n",
        "if num < 0:\n",
        "   print(\"Enter a positive number\")\n",
        "else:\n",
        "   sum = 0\n",
        "   # use while loop to iterate until zero\n",
        "   while(num > 0):\n",
        "       sum += num\n",
        "       num -= 1\n",
        "   print(\"The sum is\", sum)"
      ],
      "metadata": {
        "colab": {
          "base_uri": "https://localhost:8080/"
        },
        "id": "vXV5ZrdO9S3z",
        "outputId": "05e30bc5-aacd-4d66-f335-175c4e5b152a"
      },
      "execution_count": null,
      "outputs": [
        {
          "output_type": "stream",
          "name": "stdout",
          "text": [
            "The sum is 136\n"
          ]
        }
      ]
    },
    {
      "cell_type": "code",
      "source": [
        "# 25. Create a list of multiple of 3 less than 100 using list comprehension.\n",
        "multiples_3 = [x * 3 for x in range(1, 10)]\n",
        "print(multiples_3)"
      ],
      "metadata": {
        "colab": {
          "base_uri": "https://localhost:8080/"
        },
        "id": "oyqocTJ39Z3E",
        "outputId": "18ac967f-e3b5-4329-cd13-d8994ffeba70"
      },
      "execution_count": null,
      "outputs": [
        {
          "output_type": "stream",
          "name": "stdout",
          "text": [
            "[3, 6, 9, 12, 15, 18, 21, 24, 27]\n"
          ]
        }
      ]
    },
    {
      "cell_type": "code",
      "source": [
        "# 26. Find the Factors of a Number\n",
        "def print_factors(x):\n",
        "   print(\"The factors of \",x,\" are - \")\n",
        "   for i in range(1, x + 1):\n",
        "       if x % i == 0:\n",
        "           print(i)\n",
        "num = 320\n",
        "print_factors(num)"
      ],
      "metadata": {
        "id": "12q25fXb9f5s"
      },
      "execution_count": null,
      "outputs": []
    },
    {
      "cell_type": "code",
      "source": [
        "# 27. Convert Decimal to Binary, Octal, and Hexadecimal\n",
        "dec = 344\n",
        "print(\"The decimal value of\", dec, \"is:\")\n",
        "print(bin(dec), \"in binary.\")\n",
        "print(oct(dec), \"in octal.\")\n",
        "print(hex(dec), \"in hexadecimal.\")"
      ],
      "metadata": {
        "colab": {
          "base_uri": "https://localhost:8080/"
        },
        "id": "VPnUEc5W94Sk",
        "outputId": "e2cc8cf8-2500-4894-a740-4ec9b78f4a37"
      },
      "execution_count": null,
      "outputs": [
        {
          "output_type": "stream",
          "name": "stdout",
          "text": [
            "The decimal value of 344 is:\n",
            "0b101011000 in binary.\n",
            "0o530 in octal.\n",
            "0x158 in hexadecimal.\n"
          ]
        }
      ]
    },
    {
      "cell_type": "code",
      "source": [
        "# 28. Create dictionary of fruits using their first letter as key using dict comprehension.\n",
        "a = {'apple': 'fruit', 'beetroot': 'vegetable', 'cake': 'dessert'}\n",
        "a['doughnut'] = 'snack'\n",
        "print(a['apple'])"
      ],
      "metadata": {
        "colab": {
          "base_uri": "https://localhost:8080/"
        },
        "id": "Cq_Ecvrl98I1",
        "outputId": "530e52ee-82e4-408d-fd28-295b04986bbd"
      },
      "execution_count": null,
      "outputs": [
        {
          "output_type": "stream",
          "name": "stdout",
          "text": [
            "fruit\n"
          ]
        }
      ]
    },
    {
      "cell_type": "code",
      "source": [
        "# 29. HCF/GCD of Two Numbers Python Program\n",
        "a = int(input(\"Enter the first number: \"))\n",
        "b = int(input(\"Enter the second number: \"))\n",
        " \n",
        "HCF = 1\n",
        "for i in range(2,a+1):\n",
        "    if(a%i==0 and b%i==0):\n",
        "        HCF = i\n",
        "print(\"First Number is: \",a)\n",
        "print(\"Second Number is: \",b)\n",
        "print(\"HCF of the numbers is: \",HCF)\n",
        "LCM = int((a*b)/(HCF))\n",
        "print(\"LCM of the two numbers is: \",LCM)"
      ],
      "metadata": {
        "colab": {
          "base_uri": "https://localhost:8080/"
        },
        "id": "KixY481b-Bnz",
        "outputId": "0c9876d9-744f-41ae-e8f1-432cd3317aaa"
      },
      "execution_count": null,
      "outputs": [
        {
          "output_type": "stream",
          "name": "stdout",
          "text": [
            "Enter the first number: 10\n",
            "Enter the second number: 20\n",
            "First Number is:  10\n",
            "Second Number is:  20\n",
            "HCF of the numbers is:  10\n",
            "LCM of the two numbers is:  20\n"
          ]
        }
      ]
    },
    {
      "cell_type": "code",
      "source": [
        "# 30. Simple Calculator\n",
        "def add(a,b):\n",
        "    c = a + b \n",
        "    return c\n",
        "\n",
        "def sub(a,b):\n",
        "    c = a - b \n",
        "    return c\n",
        "\n",
        "def mul(a,b):\n",
        "    c = a * b \n",
        "    return c\n",
        "\n",
        "def div(a,b):\n",
        "    c = a / b \n",
        "    return c\n",
        "print('''Simple Calculator :- \\n\n",
        "    1. Addition\n",
        "    2. Substraction\n",
        "    3. Multiplication\n",
        "    4. Division\n",
        "''')\n",
        "usr_chocie = int(input(\"Choose No :- \"))\n",
        "a = int(input(\"Enter Val-1 :- \"))\n",
        "b = int(input(\"Enter Val-2 :- \"))\n",
        "\n",
        "if usr_chocie == 1:\n",
        "    print(\"Addition :- \", add(a, b))\n",
        "elif usr_chocie == 2:\n",
        "    print(\"Substraction :- \", sub(a, b))\n",
        "elif usr_chocie == 3:\n",
        "    print(\"Multiplication :- \", mul(a, b))\n",
        "elif usr_chocie == 4:\n",
        "    print(\"Division :- \", div(a, b))\n",
        "else:\n",
        "    print(\"Wrong No. Choosen\")"
      ],
      "metadata": {
        "colab": {
          "base_uri": "https://localhost:8080/"
        },
        "id": "vpOMZWoT_pAe",
        "outputId": "c91b1260-3500-4499-a824-7af3b9fe3141"
      },
      "execution_count": null,
      "outputs": [
        {
          "output_type": "stream",
          "name": "stdout",
          "text": [
            "Simple Calculator :- \n",
            "\n",
            "    1. Addition\n",
            "    2. Substraction\n",
            "    3. Multiplication\n",
            "    4. Division\n",
            "\n",
            "Choose No :- 1\n",
            "Enter Val-1 :- 10\n",
            "Enter Val-2 :- 20\n",
            "Addition :-  30\n"
          ]
        }
      ]
    },
    {
      "cell_type": "code",
      "source": [
        "# 31. Area of all shapes\n",
        "print('''\n",
        "    Calculate Shape Area :- \\n\n",
        "    1. Rectangle\n",
        "    2. Square\n",
        "    3. Triangle\n",
        "    4. Circle\n",
        "    5. Parallelogram\n",
        "    ''')\n",
        "shape_name = input(\"Enter shape no whose area you want to find: \")\n",
        "if shape_name == \"1\":\n",
        "\tl = int(input(\"Enter rectangle's length :- \"))\n",
        "\tb = int(input(\"Enter rectangle's breadth :- \"))\n",
        "\trect_area = l * b\n",
        "\tprint(f\"The area of rectangle is :- {rect_area}\")\n",
        "\n",
        "elif shape_name == \"2\":\n",
        "\ts = int(input(\"Enter square's side length :- \"))\n",
        "\tsqt_area = s * s\n",
        "\tprint(f\"The area of square is :- {sqt_area}\")\n",
        "\n",
        "\n",
        "elif shape_name == \"3\":\n",
        "    h = int(input(\"Enter triangle's height length :- \"))\n",
        "    b = int(input(\"Enter triangle's breadth length :- \")) \n",
        "    tri_area = 0.5 * b * h\n",
        "    print(f\"The area of triangle is :- {tri_area} \")\n",
        "\n",
        "\n",
        "elif shape_name == \"4\":\n",
        "\tr = int(input(\"Enter circle's radius length :- \"))\n",
        "\tpi = 3.14\n",
        "\tcirc_area = pi * r * r\n",
        "\tprint(f\"The area of circle is :- {circ_area} \")\n",
        "    \n",
        "   \n",
        "elif shape_name == '5':\n",
        "    b = int(input(\"Enter parallelogram's base length :- \"))\n",
        "    h = int(input(\"Enter parallelogram's height length :- \"))\n",
        "    para_area = b * h\n",
        "    print(f\"The area of parallelogram is :- {para_area}\")\n",
        "\t\n",
        "else:\n",
        "    print(\"Sorry! This shape is not available\")"
      ],
      "metadata": {
        "id": "fhjfFAzTAwIz"
      },
      "execution_count": null,
      "outputs": []
    },
    {
      "cell_type": "code",
      "source": [
        "# 32. List \n",
        "print(\"Create List :- \")\n",
        "list_var = [\"list\", 1, 2.2, True, 45]\n",
        "print(\"\\nAccessing list value :- \", list_var[0], \" | last value :- \", list_var[-1])\n",
        "\n",
        "list_var.insert(1, \"InsertAt-1\")\n",
        "list_var[0] = \"ModifyingAt0\"\n",
        "list_var.pop()              # Without index remove from last\n",
        "list_var.remove(2.2)        # Remove element with specific value\n",
        "print(list_var)"
      ],
      "metadata": {
        "colab": {
          "base_uri": "https://localhost:8080/"
        },
        "id": "J7tugRhNA0BB",
        "outputId": "60f8813b-73a1-4a2c-e5cc-2c627e2e4e30"
      },
      "execution_count": null,
      "outputs": [
        {
          "output_type": "stream",
          "name": "stdout",
          "text": [
            "Create List :- \n",
            "\n",
            "Accessing list value :-  list  | last value :-  45\n",
            "['ModifyingAt0', 'InsertAt-1', 1, True]\n"
          ]
        }
      ]
    },
    {
      "cell_type": "code",
      "source": [
        "# 33. Tuple \n",
        "tuple_var = (\"tuple\", 1, 2.2, True, 45)\n",
        "print(\"\\nAccessing tuple and slice - \\n\", tuple_var[0], \"\\n\",   tuple_var[-1])\n",
        "\n",
        "# tuple_var.insert(1, \"InsertAt-1\") # tuple immutable so can't value change(No delete or remove single value)\n",
        "print(\"Return Item Index No :   \", tuple_var.index(\"tuple\"))\n",
        "print(\"Return 1 If Item Found : \", tuple_var.count(True))\n",
        "print(tuple_var)"
      ],
      "metadata": {
        "colab": {
          "base_uri": "https://localhost:8080/"
        },
        "id": "umsJQCi6BPEH",
        "outputId": "6893d7c5-f9d8-476d-e601-8c61b6876f9e"
      },
      "execution_count": null,
      "outputs": [
        {
          "output_type": "stream",
          "name": "stdout",
          "text": [
            "\n",
            "Accessing tuple and slice - \n",
            " tuple \n",
            " 45\n",
            "Return Item Index No :    0\n",
            "Return 1 If Item Found :  2\n",
            "('tuple', 1, 2.2, True, 45)\n"
          ]
        }
      ]
    },
    {
      "cell_type": "code",
      "source": [
        "# 34.  Dictionary\n",
        "Dict = {\"First\": \"Bhavin\",\n",
        "        \"Second\": \"Bhesaniya\",\n",
        "        3: \"Number\",\n",
        "        4: 2001,\n",
        "        \"Five\": [\"Adding\", \"list\", \"Add any iterable\"]\n",
        "        }\n",
        "print(\"Accessing dictionary Using Key : \" + Dict[\"First\"])\n",
        "print(\"Accessing dictionary Using get function :- \", Dict.get(\"Five\"))\n",
        "print(\"Get All Keys :- \" , Dict.keys())\n",
        "print(\"Get All Values :- \", Dict.values())\n",
        "print(\"Get All keys and Values :- \", Dict.items())  \n",
        "Dict.update({4: 1152001})\n",
        "print(\"\\n\", Dict)\n",
        "\n",
        "print(Dict.pop(3))      # Remove specific key values\n",
        "print(Dict.popitem())   # Remove last value\n",
        "del Dict[4]             # Delete item with specified key\n",
        "print(\"\\n\", Dict)\n",
        "\n",
        "Dict.clear()\n",
        "print(Dict)"
      ],
      "metadata": {
        "colab": {
          "base_uri": "https://localhost:8080/"
        },
        "id": "Ndi_nVAVBSvi",
        "outputId": "0ce89283-3a63-41f7-96be-0d80c84ec9b5"
      },
      "execution_count": null,
      "outputs": [
        {
          "output_type": "stream",
          "name": "stdout",
          "text": [
            "Accessing dictionary Using Key : Bhavin\n",
            "Accessing dictionary Using get function :-  ['Adding', 'list', 'Add any iterable']\n",
            "Get All Keys :-  dict_keys(['First', 'Second', 3, 4, 'Five'])\n",
            "Get All Values :-  dict_values(['Bhavin', 'Bhesaniya', 'Number', 2001, ['Adding', 'list', 'Add any iterable']])\n",
            "Get All keys and Values :-  dict_items([('First', 'Bhavin'), ('Second', 'Bhesaniya'), (3, 'Number'), (4, 2001), ('Five', ['Adding', 'list', 'Add any iterable'])])\n",
            "\n",
            " {'First': 'Bhavin', 'Second': 'Bhesaniya', 3: 'Number', 4: 1152001, 'Five': ['Adding', 'list', 'Add any iterable']}\n",
            "Number\n",
            "('Five', ['Adding', 'list', 'Add any iterable'])\n",
            "\n",
            " {'First': 'Bhavin', 'Second': 'Bhesaniya'}\n",
            "{}\n"
          ]
        }
      ]
    },
    {
      "cell_type": "code",
      "source": [
        "# 35. SET\n",
        "set_in = input()\n",
        "set1 = set(map(int, input().split()))\n",
        "set1.intersection_update(set1)\n",
        "print(set_in, set1)"
      ],
      "metadata": {
        "colab": {
          "base_uri": "https://localhost:8080/"
        },
        "id": "wfDtpn7xBV7b",
        "outputId": "1670d1ad-db46-49d2-e3a4-89d3e2222f74"
      },
      "execution_count": null,
      "outputs": [
        {
          "output_type": "stream",
          "name": "stdout",
          "text": [
            "10\n",
            "20\n",
            "10 {20}\n"
          ]
        }
      ]
    }
  ]
}